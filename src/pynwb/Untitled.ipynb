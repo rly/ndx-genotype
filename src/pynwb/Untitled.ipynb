{
 "cells": [
  {
   "cell_type": "code",
   "execution_count": 5,
   "id": "increasing-infrared",
   "metadata": {},
   "outputs": [],
   "source": [
    "from ndx_genotype import GenotypeNWBFile, GenotypeSubject, GenotypesTable, AllelesTable\n",
    "import datetime\n",
    "from dateutil.tz import tzlocal\n",
    "import pandas as pd\n",
    "import numpy as np\n",
    "\n",
    "from hdmf.common import VectorData, ExternalResources"
   ]
  },
  {
   "cell_type": "code",
   "execution_count": 2,
   "id": "manual-saturday",
   "metadata": {},
   "outputs": [],
   "source": [
    "def set_up_genotypes_table(kwargs):\n",
    "        nwbfile = GenotypeNWBFile(\n",
    "            session_description='session_description',\n",
    "            identifier='identifier',\n",
    "            session_start_time=datetime.datetime.now(datetime.timezone.utc)\n",
    "        )\n",
    "        nwbfile.subject = GenotypeSubject(\n",
    "            subject_id='3',\n",
    "            genotype='Vip-IRES-Cre/wt',\n",
    "        )\n",
    "        gt = GenotypesTable(**kwargs)\n",
    "        nwbfile.subject.genotypes_table = gt  # GenotypesTable must be descendant of NWBFile before add_genotype works\n",
    "        # TODO remove this dependency\n",
    "        return gt"
   ]
  },
  {
   "cell_type": "code",
   "execution_count": 7,
   "id": "referenced-practice",
   "metadata": {},
   "outputs": [],
   "source": [
    "gt = set_up_genotypes_table(dict(\n",
    "            process='PCR',\n",
    "            process_url='https://dx.doi.org/10.17504/protocols.io.yjifuke',\n",
    "            assembly='GRCm38.p6',\n",
    "            annotation='NCBI Mus musculus Annotation Release 108',\n",
    "        ))"
   ]
  },
  {
   "cell_type": "code",
   "execution_count": 9,
   "id": "looking-nurse",
   "metadata": {},
   "outputs": [
    {
     "data": {
      "text/plain": [
       "3"
      ]
     },
     "execution_count": 9,
     "metadata": {},
     "output_type": "execute_result"
    }
   ],
   "source": [
    "gt.add_allele(symbol='Vip-IRES-Cre')\n",
    "gt.add_allele(symbol='wt')\n",
    "gt.add_allele(symbol='Ai14(RCL-tdT)')\n",
    "gt.add_allele(symbol='allele3')"
   ]
  },
  {
   "cell_type": "code",
   "execution_count": 10,
   "id": "strategic-joint",
   "metadata": {},
   "outputs": [],
   "source": [
    "gt.add_genotype(\n",
    "            locus='Vip',\n",
    "            allele1='Vip-IRES-Cre',\n",
    "            allele2='wt',\n",
    "            allele3='wt',\n",
    "            locus_resource_name='locus_resource_name',\n",
    "            locus_resource_uri='locus_resource_uri',\n",
    "            locus_entity_id='locus_entity_id_1',\n",
    "            locus_entity_uri='locus_entity_uri_1')"
   ]
  },
  {
   "cell_type": "code",
   "execution_count": 16,
   "id": "organic-accent",
   "metadata": {},
   "outputs": [
    {
     "data": {
      "text/plain": [
       "('locus', 'allele1', 'allele2', 'allele3')"
      ]
     },
     "execution_count": 16,
     "metadata": {},
     "output_type": "execute_result"
    }
   ],
   "source": [
    "gt.colnames"
   ]
  },
  {
   "cell_type": "code",
   "execution_count": 18,
   "id": "greatest-serbia",
   "metadata": {},
   "outputs": [],
   "source": [
    "gt2 = set_up_genotypes_table(dict(process='PCR'))\n",
    "# nwbfile = gt.get_ancestor(data_type='GenotypeNWBFile')\n",
    "gt2.add_allele(\n",
    "    symbol='Vip-IRES-Cre'\n",
    ")\n",
    "gt2.add_allele(symbol='wt')\n",
    "gt2.add_allele(symbol='Ai14(RCL-tdT)')\n",
    "gt2.add_genotype(\n",
    "    locus='Vip',\n",
    "    allele1='Vip-IRES-Cre',\n",
    "    allele2='wt',\n",
    "    locus_resource_name='locus_resource_name',\n",
    "    locus_resource_uri='locus_resource_uri',\n",
    "    locus_entity_id='locus_entity_id_1',\n",
    "    locus_entity_uri='locus_entity_uri_1')"
   ]
  },
  {
   "cell_type": "code",
   "execution_count": 19,
   "id": "athletic-pride",
   "metadata": {},
   "outputs": [
    {
     "data": {
      "text/plain": [
       "('locus', 'allele1', 'allele2')"
      ]
     },
     "execution_count": 19,
     "metadata": {},
     "output_type": "execute_result"
    }
   ],
   "source": [
    "gt2.colnames"
   ]
  },
  {
   "cell_type": "code",
   "execution_count": null,
   "id": "engaged-genealogy",
   "metadata": {},
   "outputs": [],
   "source": []
  }
 ],
 "metadata": {
  "kernelspec": {
   "display_name": "Python 3",
   "language": "python",
   "name": "python3"
  },
  "language_info": {
   "codemirror_mode": {
    "name": "ipython",
    "version": 3
   },
   "file_extension": ".py",
   "mimetype": "text/x-python",
   "name": "python",
   "nbconvert_exporter": "python",
   "pygments_lexer": "ipython3",
   "version": "3.7.9"
  }
 },
 "nbformat": 4,
 "nbformat_minor": 5
}
