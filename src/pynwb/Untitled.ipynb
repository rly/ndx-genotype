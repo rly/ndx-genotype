{
 "cells": [
  {
   "cell_type": "code",
   "execution_count": 1,
   "id": "acknowledged-morgan",
   "metadata": {},
   "outputs": [],
   "source": [
    "from ndx_genotype import GenotypeNWBFile, GenotypeSubject, GenotypesTable, AllelesTable\n",
    "import datetime\n",
    "from dateutil.tz import tzlocal\n",
    "import pandas as pd\n",
    "import numpy as np\n",
    "from hdmf.common.table import DynamicTableRegion\n",
    "\n",
    "from hdmf.common import VectorData, ExternalResources"
   ]
  },
  {
   "cell_type": "code",
   "execution_count": 2,
   "id": "pediatric-transformation",
   "metadata": {},
   "outputs": [],
   "source": [
    "def set_up_genotypes_table(kwargs):\n",
    "        nwbfile = GenotypeNWBFile(\n",
    "            session_description='session_description',\n",
    "            identifier='identifier',\n",
    "            session_start_time=datetime.datetime.now(datetime.timezone.utc)\n",
    "        )\n",
    "        nwbfile.subject = GenotypeSubject(\n",
    "            subject_id='3',\n",
    "            genotype='Vip-IRES-Cre/wt',\n",
    "        )\n",
    "        gt = GenotypesTable(**kwargs)\n",
    "        nwbfile.subject.genotypes_table = gt  # GenotypesTable must be descendant of NWBFile before add_genotype works\n",
    "        # TODO remove this dependency\n",
    "        return gt"
   ]
  },
  {
   "cell_type": "code",
   "execution_count": 3,
   "id": "downtown-tulsa",
   "metadata": {},
   "outputs": [
    {
     "name": "stderr",
     "output_type": "stream",
     "text": [
      "/Users/mavaylon/opt/anaconda3/envs/pynwb/lib/python3.7/site-packages/hdmf/container.py:181: UserWarning: ExternalResources is experimental -- it may be removed in the future and is not guaranteed to maintain backward compatibility\n",
      "  warn(_exp_warn_msg(cls))\n"
     ]
    },
    {
     "ename": "KeyError",
     "evalue": "'allele3'",
     "output_type": "error",
     "traceback": [
      "\u001b[0;31m---------------------------------------------------------------------------\u001b[0m",
      "\u001b[0;31mKeyError\u001b[0m                                  Traceback (most recent call last)",
      "\u001b[0;32m<ipython-input-3-d973505b732c>\u001b[0m in \u001b[0;36m<module>\u001b[0;34m\u001b[0m\n\u001b[1;32m      3\u001b[0m             \u001b[0mprocess_url\u001b[0m\u001b[0;34m=\u001b[0m\u001b[0;34m'https://dx.doi.org/10.17504/protocols.io.yjifuke'\u001b[0m\u001b[0;34m,\u001b[0m\u001b[0;34m\u001b[0m\u001b[0;34m\u001b[0m\u001b[0m\n\u001b[1;32m      4\u001b[0m             \u001b[0massembly\u001b[0m\u001b[0;34m=\u001b[0m\u001b[0;34m'GRCm38.p6'\u001b[0m\u001b[0;34m,\u001b[0m\u001b[0;34m\u001b[0m\u001b[0;34m\u001b[0m\u001b[0m\n\u001b[0;32m----> 5\u001b[0;31m             \u001b[0mannotation\u001b[0m\u001b[0;34m=\u001b[0m\u001b[0;34m'NCBI Mus musculus Annotation Release 108'\u001b[0m\u001b[0;34m,\u001b[0m\u001b[0;34m\u001b[0m\u001b[0;34m\u001b[0m\u001b[0m\n\u001b[0m\u001b[1;32m      6\u001b[0m         ))\n",
      "\u001b[0;32m<ipython-input-2-72dde3b984f4>\u001b[0m in \u001b[0;36mset_up_genotypes_table\u001b[0;34m(kwargs)\u001b[0m\n\u001b[1;32m      9\u001b[0m             \u001b[0mgenotype\u001b[0m\u001b[0;34m=\u001b[0m\u001b[0;34m'Vip-IRES-Cre/wt'\u001b[0m\u001b[0;34m,\u001b[0m\u001b[0;34m\u001b[0m\u001b[0;34m\u001b[0m\u001b[0m\n\u001b[1;32m     10\u001b[0m         )\n\u001b[0;32m---> 11\u001b[0;31m         \u001b[0mgt\u001b[0m \u001b[0;34m=\u001b[0m \u001b[0mGenotypesTable\u001b[0m\u001b[0;34m(\u001b[0m\u001b[0;34m**\u001b[0m\u001b[0mkwargs\u001b[0m\u001b[0;34m)\u001b[0m\u001b[0;34m\u001b[0m\u001b[0;34m\u001b[0m\u001b[0m\n\u001b[0m\u001b[1;32m     12\u001b[0m         \u001b[0mnwbfile\u001b[0m\u001b[0;34m.\u001b[0m\u001b[0msubject\u001b[0m\u001b[0;34m.\u001b[0m\u001b[0mgenotypes_table\u001b[0m \u001b[0;34m=\u001b[0m \u001b[0mgt\u001b[0m  \u001b[0;31m# GenotypesTable must be descendant of NWBFile before add_genotype works\u001b[0m\u001b[0;34m\u001b[0m\u001b[0;34m\u001b[0m\u001b[0m\n\u001b[1;32m     13\u001b[0m         \u001b[0;31m# TODO remove this dependency\u001b[0m\u001b[0;34m\u001b[0m\u001b[0;34m\u001b[0m\u001b[0;34m\u001b[0m\u001b[0m\n",
      "\u001b[0;32m~/opt/anaconda3/envs/pynwb/lib/python3.7/site-packages/hdmf/utils.py\u001b[0m in \u001b[0;36mfunc_call\u001b[0;34m(*args, **kwargs)\u001b[0m\n\u001b[1;32m    578\u001b[0m             \u001b[0;32mdef\u001b[0m \u001b[0mfunc_call\u001b[0m\u001b[0;34m(\u001b[0m\u001b[0;34m*\u001b[0m\u001b[0margs\u001b[0m\u001b[0;34m,\u001b[0m \u001b[0;34m**\u001b[0m\u001b[0mkwargs\u001b[0m\u001b[0;34m)\u001b[0m\u001b[0;34m:\u001b[0m\u001b[0;34m\u001b[0m\u001b[0;34m\u001b[0m\u001b[0m\n\u001b[1;32m    579\u001b[0m                 \u001b[0mpargs\u001b[0m \u001b[0;34m=\u001b[0m \u001b[0m_check_args\u001b[0m\u001b[0;34m(\u001b[0m\u001b[0margs\u001b[0m\u001b[0;34m,\u001b[0m \u001b[0mkwargs\u001b[0m\u001b[0;34m)\u001b[0m\u001b[0;34m\u001b[0m\u001b[0;34m\u001b[0m\u001b[0m\n\u001b[0;32m--> 580\u001b[0;31m                 \u001b[0;32mreturn\u001b[0m \u001b[0mfunc\u001b[0m\u001b[0;34m(\u001b[0m\u001b[0margs\u001b[0m\u001b[0;34m[\u001b[0m\u001b[0;36m0\u001b[0m\u001b[0;34m]\u001b[0m\u001b[0;34m,\u001b[0m \u001b[0;34m**\u001b[0m\u001b[0mpargs\u001b[0m\u001b[0;34m)\u001b[0m\u001b[0;34m\u001b[0m\u001b[0;34m\u001b[0m\u001b[0m\n\u001b[0m\u001b[1;32m    581\u001b[0m         \u001b[0;32melse\u001b[0m\u001b[0;34m:\u001b[0m\u001b[0;34m\u001b[0m\u001b[0;34m\u001b[0m\u001b[0m\n\u001b[1;32m    582\u001b[0m             \u001b[0;32mdef\u001b[0m \u001b[0mfunc_call\u001b[0m\u001b[0;34m(\u001b[0m\u001b[0;34m*\u001b[0m\u001b[0margs\u001b[0m\u001b[0;34m,\u001b[0m \u001b[0;34m**\u001b[0m\u001b[0mkwargs\u001b[0m\u001b[0;34m)\u001b[0m\u001b[0;34m:\u001b[0m\u001b[0;34m\u001b[0m\u001b[0;34m\u001b[0m\u001b[0m\n",
      "\u001b[0;32m~/Research/ndx-genotype/src/pynwb/ndx_genotype/genotypes_table.py\u001b[0m in \u001b[0;36m__init__\u001b[0;34m(self, **kwargs)\u001b[0m\n\u001b[1;32m    234\u001b[0m         \u001b[0;32mif\u001b[0m \u001b[0mself\u001b[0m\u001b[0;34m[\u001b[0m\u001b[0;34m'allele2'\u001b[0m\u001b[0;34m]\u001b[0m\u001b[0;34m.\u001b[0m\u001b[0mtable\u001b[0m \u001b[0;32mis\u001b[0m \u001b[0;32mNone\u001b[0m\u001b[0;34m:\u001b[0m\u001b[0;34m\u001b[0m\u001b[0;34m\u001b[0m\u001b[0m\n\u001b[1;32m    235\u001b[0m             \u001b[0mself\u001b[0m\u001b[0;34m[\u001b[0m\u001b[0;34m'allele2'\u001b[0m\u001b[0;34m]\u001b[0m\u001b[0;34m.\u001b[0m\u001b[0mtable\u001b[0m \u001b[0;34m=\u001b[0m \u001b[0mself\u001b[0m\u001b[0;34m.\u001b[0m\u001b[0malleles_table\u001b[0m\u001b[0;34m\u001b[0m\u001b[0;34m\u001b[0m\u001b[0m\n\u001b[0;32m--> 236\u001b[0;31m         \u001b[0;32mif\u001b[0m \u001b[0mself\u001b[0m\u001b[0;34m[\u001b[0m\u001b[0;34m'allele3'\u001b[0m\u001b[0;34m]\u001b[0m\u001b[0;34m.\u001b[0m\u001b[0mtable\u001b[0m \u001b[0;32mis\u001b[0m \u001b[0;32mNone\u001b[0m\u001b[0;34m:\u001b[0m\u001b[0;34m\u001b[0m\u001b[0;34m\u001b[0m\u001b[0m\n\u001b[0m\u001b[1;32m    237\u001b[0m             \u001b[0mself\u001b[0m\u001b[0;34m[\u001b[0m\u001b[0;34m'allele3'\u001b[0m\u001b[0;34m]\u001b[0m\u001b[0;34m.\u001b[0m\u001b[0mtable\u001b[0m \u001b[0;34m=\u001b[0m \u001b[0mself\u001b[0m\u001b[0;34m.\u001b[0m\u001b[0malleles_table\u001b[0m\u001b[0;34m\u001b[0m\u001b[0;34m\u001b[0m\u001b[0m\n\u001b[1;32m    238\u001b[0m \u001b[0;34m\u001b[0m\u001b[0m\n",
      "\u001b[0;32m~/opt/anaconda3/envs/pynwb/lib/python3.7/site-packages/hdmf/common/table.py\u001b[0m in \u001b[0;36m__getitem__\u001b[0;34m(self, key)\u001b[0m\n\u001b[1;32m    772\u001b[0m         \u001b[0mret\u001b[0m \u001b[0;34m=\u001b[0m \u001b[0mself\u001b[0m\u001b[0;34m.\u001b[0m\u001b[0mget\u001b[0m\u001b[0;34m(\u001b[0m\u001b[0mkey\u001b[0m\u001b[0;34m)\u001b[0m\u001b[0;34m\u001b[0m\u001b[0;34m\u001b[0m\u001b[0m\n\u001b[1;32m    773\u001b[0m         \u001b[0;32mif\u001b[0m \u001b[0mret\u001b[0m \u001b[0;32mis\u001b[0m \u001b[0;32mNone\u001b[0m\u001b[0;34m:\u001b[0m\u001b[0;34m\u001b[0m\u001b[0;34m\u001b[0m\u001b[0m\n\u001b[0;32m--> 774\u001b[0;31m             \u001b[0;32mraise\u001b[0m \u001b[0mKeyError\u001b[0m\u001b[0;34m(\u001b[0m\u001b[0mkey\u001b[0m\u001b[0;34m)\u001b[0m\u001b[0;34m\u001b[0m\u001b[0;34m\u001b[0m\u001b[0m\n\u001b[0m\u001b[1;32m    775\u001b[0m         \u001b[0;32mreturn\u001b[0m \u001b[0mret\u001b[0m\u001b[0;34m\u001b[0m\u001b[0;34m\u001b[0m\u001b[0m\n\u001b[1;32m    776\u001b[0m \u001b[0;34m\u001b[0m\u001b[0m\n",
      "\u001b[0;31mKeyError\u001b[0m: 'allele3'"
     ]
    }
   ],
   "source": [
    "gt = set_up_genotypes_table(dict(\n",
    "            process='PCR',\n",
    "            process_url='https://dx.doi.org/10.17504/protocols.io.yjifuke',\n",
    "            assembly='GRCm38.p6',\n",
    "            annotation='NCBI Mus musculus Annotation Release 108',\n",
    "        ))"
   ]
  },
  {
   "cell_type": "code",
   "execution_count": null,
   "id": "permanent-button",
   "metadata": {},
   "outputs": [],
   "source": [
    "gt.add_allele(symbol='Vip-IRES-Cre')\n",
    "gt.add_allele(symbol='wt')\n",
    "gt.add_allele(symbol='Ai14(RCL-tdT)')\n",
    "gt.add_allele(symbol='allele3')"
   ]
  },
  {
   "cell_type": "code",
   "execution_count": null,
   "id": "proved-apple",
   "metadata": {},
   "outputs": [],
   "source": [
    "gt.add_genotype(\n",
    "            locus='Vip',\n",
    "            allele1='Vip-IRES-Cre',\n",
    "            allele2='wt',\n",
    "            allele3='wt',\n",
    "            locus_resource_name='locus_resource_name',\n",
    "            locus_resource_uri='locus_resource_uri',\n",
    "            locus_entity_id='locus_entity_id_1',\n",
    "            locus_entity_uri='locus_entity_uri_1')"
   ]
  },
  {
   "cell_type": "code",
   "execution_count": null,
   "id": "complicated-enclosure",
   "metadata": {},
   "outputs": [],
   "source": [
    "gt.colnames"
   ]
  },
  {
   "cell_type": "code",
   "execution_count": null,
   "id": "connected-event",
   "metadata": {},
   "outputs": [],
   "source": [
    "gt[:,'allele3']"
   ]
  },
  {
   "cell_type": "code",
   "execution_count": null,
   "id": "czech-idaho",
   "metadata": {},
   "outputs": [],
   "source": [
    "gt2 = set_up_genotypes_table(dict(process='PCR'))\n",
    "# nwbfile = gt.get_ancestor(data_type='GenotypeNWBFile')\n",
    "gt2.add_allele(\n",
    "    symbol='Vip-IRES-Cre'\n",
    ")\n",
    "gt2.add_allele(symbol='wt')\n",
    "gt2.add_allele(symbol='Ai14(RCL-tdT)')\n",
    "gt2.add_genotype(\n",
    "    locus='Vip',\n",
    "    allele1='Vip-IRES-Cre',\n",
    "    allele2='wt',\n",
    "    locus_resource_name='locus_resource_name',\n",
    "    locus_resource_uri='locus_resource_uri',\n",
    "    locus_entity_id='locus_entity_id_1',\n",
    "    locus_entity_uri='locus_entity_uri_1')"
   ]
  },
  {
   "cell_type": "code",
   "execution_count": null,
   "id": "absent-friendly",
   "metadata": {},
   "outputs": [],
   "source": [
    "gt2.colnames"
   ]
  },
  {
   "cell_type": "code",
   "execution_count": null,
   "id": "offensive-medium",
   "metadata": {},
   "outputs": [],
   "source": [
    "gt2['allele2']"
   ]
  },
  {
   "cell_type": "code",
   "execution_count": null,
   "id": "distant-generation",
   "metadata": {},
   "outputs": [],
   "source": [
    "gt2[:,'allele2']"
   ]
  },
  {
   "cell_type": "code",
   "execution_count": null,
   "id": "distinguished-party",
   "metadata": {},
   "outputs": [],
   "source": [
    "gt2.to_dataframe()"
   ]
  },
  {
   "cell_type": "code",
   "execution_count": null,
   "id": "silent-thomson",
   "metadata": {},
   "outputs": [],
   "source": [
    "gt2.allele3"
   ]
  },
  {
   "cell_type": "code",
   "execution_count": null,
   "id": "wooden-possible",
   "metadata": {},
   "outputs": [],
   "source": []
  }
 ],
 "metadata": {
  "kernelspec": {
   "display_name": "Python 3",
   "language": "python",
   "name": "python3"
  },
  "language_info": {
   "codemirror_mode": {
    "name": "ipython",
    "version": 3
   },
   "file_extension": ".py",
   "mimetype": "text/x-python",
   "name": "python",
   "nbconvert_exporter": "python",
   "pygments_lexer": "ipython3",
   "version": "3.7.9"
  }
 },
 "nbformat": 4,
 "nbformat_minor": 5
}
