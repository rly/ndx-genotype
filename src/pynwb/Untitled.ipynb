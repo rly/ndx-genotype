{
 "cells": [
  {
   "cell_type": "code",
   "execution_count": 4,
   "id": "demanding-relation",
   "metadata": {},
   "outputs": [],
   "source": [
    "from ndx_genotype import GenotypeNWBFile, GenotypeSubject, GenotypesTable, AllelesTable\n",
    "from hdmf.common import (DynamicTable, VectorData, VectorIndex, ElementIdentifiers, EnumData,\n",
    "                         DynamicTableRegion, get_manager, SimpleMultiContainer)"
   ]
  },
  {
   "cell_type": "code",
   "execution_count": 6,
   "id": "fleet-validation",
   "metadata": {},
   "outputs": [],
   "source": [
    "spec = [\n",
    "    {'name': 'foo', 'description': 'foo column'},\n",
    "    {'name': 'bar', 'description': 'bar column'},\n",
    "    {'name': 'baz', 'description': 'baz column'},\n",
    "]\n",
    "data = [\n",
    "    [1, 2, 3, 4, 5],\n",
    "    [10.0, 20.0, 30.0, 40.0, 50.0],\n",
    "    ['cat', 'dog', 'bird', 'fish', 'lizard']\n",
    "]\n"
   ]
  },
  {
   "cell_type": "code",
   "execution_count": 7,
   "id": "minute-arrival",
   "metadata": {},
   "outputs": [],
   "source": [
    "def test_constructor_ids_default(self):\n",
    "    columns = [VectorData(name=s['name'], description=s['description'], data=d)\n",
    "               for s, d in zip(spec, data)]\n",
    "    table = DynamicTable(\"with_spec\", 'a test table', columns=columns)\n",
    "    return table\n",
    "\n",
    "def test_constructor_ids(self):\n",
    "    columns = [VectorData(name=s['name'], description=s['description'], data=d)\n",
    "               for s, d in zip(spec, data)]\n",
    "    table = DynamicTable(\"with_columns\", 'a test table', id=[0, 1, 2, 3, 4], columns=columns)\n",
    "    return table\n"
   ]
  },
  {
   "cell_type": "code",
   "execution_count": 26,
   "id": "intimate-shipping",
   "metadata": {},
   "outputs": [],
   "source": [
    "columns = [VectorData(name=s['name'], description=s['description'], data=d)\n",
    "               for s, d in zip(spec, data)]"
   ]
  },
  {
   "cell_type": "code",
   "execution_count": 50,
   "id": "innocent-eugene",
   "metadata": {},
   "outputs": [],
   "source": [
    "table = DynamicTable(\"with_columns\", 'a test table', id=[0, 1, 2, 3, 4], columns=columns)\n"
   ]
  },
  {
   "cell_type": "code",
   "execution_count": 9,
   "id": "medieval-gauge",
   "metadata": {},
   "outputs": [],
   "source": [
    "table = DynamicTable(\"with_spec\", 'a test table', columns=columns)\n"
   ]
  },
  {
   "cell_type": "code",
   "execution_count": 10,
   "id": "independent-agent",
   "metadata": {},
   "outputs": [
    {
     "data": {
      "text/plain": [
       "[0, 1, 2, 3, 4]"
      ]
     },
     "execution_count": 10,
     "metadata": {},
     "output_type": "execute_result"
    }
   ],
   "source": [
    "table.id.data"
   ]
  },
  {
   "cell_type": "code",
   "execution_count": 51,
   "id": "increasing-knowing",
   "metadata": {},
   "outputs": [
    {
     "data": {
      "text/html": [
       "<div>\n",
       "<style scoped>\n",
       "    .dataframe tbody tr th:only-of-type {\n",
       "        vertical-align: middle;\n",
       "    }\n",
       "\n",
       "    .dataframe tbody tr th {\n",
       "        vertical-align: top;\n",
       "    }\n",
       "\n",
       "    .dataframe thead th {\n",
       "        text-align: right;\n",
       "    }\n",
       "</style>\n",
       "<table border=\"1\" class=\"dataframe\">\n",
       "  <thead>\n",
       "    <tr style=\"text-align: right;\">\n",
       "      <th></th>\n",
       "      <th>foo</th>\n",
       "      <th>bar</th>\n",
       "      <th>baz</th>\n",
       "    </tr>\n",
       "    <tr>\n",
       "      <th>id</th>\n",
       "      <th></th>\n",
       "      <th></th>\n",
       "      <th></th>\n",
       "    </tr>\n",
       "  </thead>\n",
       "  <tbody>\n",
       "    <tr>\n",
       "      <th>0</th>\n",
       "      <td>1</td>\n",
       "      <td>10.0</td>\n",
       "      <td>cat</td>\n",
       "    </tr>\n",
       "    <tr>\n",
       "      <th>1</th>\n",
       "      <td>2</td>\n",
       "      <td>20.0</td>\n",
       "      <td>dog</td>\n",
       "    </tr>\n",
       "    <tr>\n",
       "      <th>2</th>\n",
       "      <td>3</td>\n",
       "      <td>30.0</td>\n",
       "      <td>bird</td>\n",
       "    </tr>\n",
       "    <tr>\n",
       "      <th>3</th>\n",
       "      <td>4</td>\n",
       "      <td>40.0</td>\n",
       "      <td>fish</td>\n",
       "    </tr>\n",
       "    <tr>\n",
       "      <th>4</th>\n",
       "      <td>5</td>\n",
       "      <td>50.0</td>\n",
       "      <td>lizard</td>\n",
       "    </tr>\n",
       "  </tbody>\n",
       "</table>\n",
       "</div>"
      ],
      "text/plain": [
       "    foo   bar     baz\n",
       "id                   \n",
       "0     1  10.0     cat\n",
       "1     2  20.0     dog\n",
       "2     3  30.0    bird\n",
       "3     4  40.0    fish\n",
       "4     5  50.0  lizard"
      ]
     },
     "execution_count": 51,
     "metadata": {},
     "output_type": "execute_result"
    }
   ],
   "source": [
    "table.to_dataframe()"
   ]
  },
  {
   "cell_type": "code",
   "execution_count": 55,
   "id": "forty-austin",
   "metadata": {},
   "outputs": [],
   "source": [
    "columns2 = [\n",
    "            {'name': 'symbol', 'description': 'foo column'},\n",
    "            {'name': 'generation_method', 'description': 'foo column'},\n",
    "            {'name': 'recombinase', 'description': 'bar column'},\n",
    "            {'name': 'reporter', 'description': 'baz column'},\n",
    "            {'name': 'promoter', 'description': 'baz column'},\n",
    "            {'name': 'flanked_sequence', 'description': 'baz column'}\n",
    "        ]"
   ]
  },
  {
   "cell_type": "code",
   "execution_count": 34,
   "id": "consecutive-colors",
   "metadata": {},
   "outputs": [],
   "source": [
    "data2 = [\n",
    "            ['TBD'],\n",
    "            ['TBD'],\n",
    "            ['TBD'],\n",
    "            ['TBD'],\n",
    "            ['TBD'],\n",
    "            ['TBD']\n",
    "        ]"
   ]
  },
  {
   "cell_type": "code",
   "execution_count": 35,
   "id": "aerial-italy",
   "metadata": {},
   "outputs": [],
   "source": [
    "at = AllelesTable(columns=columns2)"
   ]
  },
  {
   "cell_type": "code",
   "execution_count": 36,
   "id": "curious-voluntary",
   "metadata": {},
   "outputs": [
    {
     "data": {
      "text/html": [
       "<div>\n",
       "<style scoped>\n",
       "    .dataframe tbody tr th:only-of-type {\n",
       "        vertical-align: middle;\n",
       "    }\n",
       "\n",
       "    .dataframe tbody tr th {\n",
       "        vertical-align: top;\n",
       "    }\n",
       "\n",
       "    .dataframe thead th {\n",
       "        text-align: right;\n",
       "    }\n",
       "</style>\n",
       "<table border=\"1\" class=\"dataframe\">\n",
       "  <thead>\n",
       "    <tr style=\"text-align: right;\">\n",
       "      <th></th>\n",
       "      <th>generation_method</th>\n",
       "      <th>recombinase</th>\n",
       "      <th>reporter</th>\n",
       "      <th>promoter</th>\n",
       "      <th>flanked_sequence</th>\n",
       "      <th>symbol</th>\n",
       "    </tr>\n",
       "    <tr>\n",
       "      <th>id</th>\n",
       "      <th></th>\n",
       "      <th></th>\n",
       "      <th></th>\n",
       "      <th></th>\n",
       "      <th></th>\n",
       "      <th></th>\n",
       "    </tr>\n",
       "  </thead>\n",
       "  <tbody>\n",
       "  </tbody>\n",
       "</table>\n",
       "</div>"
      ],
      "text/plain": [
       "Empty DataFrame\n",
       "Columns: [generation_method, recombinase, reporter, promoter, flanked_sequence, symbol]\n",
       "Index: []"
      ]
     },
     "execution_count": 36,
     "metadata": {},
     "output_type": "execute_result"
    }
   ],
   "source": [
    "at.to_dataframe()"
   ]
  },
  {
   "cell_type": "code",
   "execution_count": 58,
   "id": "removed-touch",
   "metadata": {},
   "outputs": [
    {
     "data": {
      "text/plain": [
       "('symbol',\n",
       " 'generation_method',\n",
       " 'recombinase',\n",
       " 'reporter',\n",
       " 'promoter',\n",
       " 'flanked_sequence')"
      ]
     },
     "execution_count": 58,
     "metadata": {},
     "output_type": "execute_result"
    }
   ],
   "source": [
    "columns3 = [VectorData(name=s['name'], description=s['description'], data=d)\n",
    "                   for s, d in zip(columns2, data2)]\n",
    "at2 = AllelesTable(id=[0], columns=columns3)\n",
    "at2.colnames"
   ]
  },
  {
   "cell_type": "code",
   "execution_count": 45,
   "id": "looking-dollar",
   "metadata": {},
   "outputs": [
    {
     "data": {
      "text/plain": [
       "5"
      ]
     },
     "execution_count": 45,
     "metadata": {},
     "output_type": "execute_result"
    }
   ],
   "source": [
    "len(columns3)"
   ]
  },
  {
   "cell_type": "code",
   "execution_count": 29,
   "id": "christian-morning",
   "metadata": {},
   "outputs": [
    {
     "data": {
      "text/plain": [
       "[1, 2, 3, 4, 5]"
      ]
     },
     "execution_count": 29,
     "metadata": {},
     "output_type": "execute_result"
    }
   ],
   "source": [
    "columns[0].data"
   ]
  },
  {
   "cell_type": "code",
   "execution_count": 46,
   "id": "known-brooks",
   "metadata": {},
   "outputs": [
    {
     "data": {
      "text/plain": [
       "<hdmf.common.table.VectorData at 0x7fbfb5f76090>"
      ]
     },
     "execution_count": 46,
     "metadata": {},
     "output_type": "execute_result"
    }
   ],
   "source": [
    "columns3[0]"
   ]
  },
  {
   "cell_type": "code",
   "execution_count": null,
   "id": "scientific-annotation",
   "metadata": {},
   "outputs": [],
   "source": [
    "colnames"
   ]
  }
 ],
 "metadata": {
  "kernelspec": {
   "display_name": "Python 3",
   "language": "python",
   "name": "python3"
  },
  "language_info": {
   "codemirror_mode": {
    "name": "ipython",
    "version": 3
   },
   "file_extension": ".py",
   "mimetype": "text/x-python",
   "name": "python",
   "nbconvert_exporter": "python",
   "pygments_lexer": "ipython3",
   "version": "3.7.9"
  }
 },
 "nbformat": 4,
 "nbformat_minor": 5
}
